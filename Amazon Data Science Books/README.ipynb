{
 "cells": [
  {
   "cell_type": "markdown",
   "metadata": {},
   "source": [
    "# Amazon Data Science Books Analysis\n",
    "\n",
    "## Introduction\n",
    "\n",
    "This project involves analyzing a dataset of books related to data science, statistics, data analysis, Python, deep learning, and machine learning. The dataset was obtained from Amazon and contains information about 946 books. You can find the dataset on Kaggle: [Amazon Data Science Books Dataset](https://www.kaggle.com/datasets/die9origephit/amazon-data-science-books).\n",
    "\n",
    "The dataset includes the following columns:\n",
    "- `title`: Title of the book\n",
    "- `author`: Author(s) of the book\n",
    "- `price`: Price (in dollars)\n",
    "- `price (including used books)`: Price range of new and used books (in dollars)\n",
    "- `pages`: Number of pages\n",
    "- `avg_reviews`: Average reviews (out of 5)\n",
    "- `n_reviews`: Number of reviews for each book\n",
    "- `star5`: Percentage of 5-star reviews\n",
    "- `star4`: Percentage of 4-star reviews\n",
    "- `star3`: Percentage of 3-star reviews\n",
    "- `star2`: Percentage of 2-star reviews\n",
    "- `star1`: Percentage of 1-star reviews\n",
    "- `dimensions`: Size of the book (in inches)\n",
    "- `weight`: Weight (in pounds or ounces)\n",
    "- `language`: Language of the book\n",
    "- `publisher`: Publisher\n",
    "- `ISBN_13`: ISBN-13 code\n",
    "- `link`: Link to the Amazon book page\n",
    "- `complete_link`: Complete link to the Amazon book page (including the domain https://amazon.com)\n",
    "\n",
    "## What has been Done\n",
    "\n",
    "I have written a series of SQL queries to perform various analyses on this dataset. The SQL script `data_science_books_analysis.sql` contains the following queries:\n",
    "\n",
    "1. **Average Price of Books**: Calculates the average price of the books in the dataset.\n",
    "2. **Highest Rated Authors**: Identifies the authors with the highest average review ratings.\n",
    "3. **Most Common Publishers**: Lists the most common publishers for data science books.\n",
    "4. **Correlation Between Number of Pages and Average Review Rating**: Extracts data to analyze the correlation between the number of pages and the average review rating.\n",
    "5. **Compare New and Used Book Prices**: Compares the average prices of new books to used books.\n",
    "6. **Top 10 Highest-Rated Books**: Lists the top 10 highest-rated books based on their average review ratings.\n",
    "7. **Distribution of Book Lengths (in Pages)**: Extracts data to analyze the distribution of book lengths.\n",
    "8. **Distribution of Books by Language**: Lists the number of books available in different languages.\n",
    "9. **Books with the Highest Number of Reviews**: Identifies the books with the highest number of reviews.\n",
    "10. **Highest-Rated Books' Price Ranges**: Lists the price ranges for the highest-rated books.\n",
    "\n",
    "## How to Use\n",
    "\n",
    "You can use the provided SQL script `data_science_books_analysis.sql` in two different environments:\n",
    "\n",
    "1. **Jupyter Notebook Interface with SQL**: Load the dataset into a pandas DataFrame, set up an in-memory SQLite database, and execute the queries.\n",
    "2. **SQL Server Management Studio (SSMS)**: Run the provided SQL queries against the dataset table `[amazondsb].[dbo].[final_book_dataset_kaggle2$]` in SSMS.\n",
    "\n",
    "To use the script, open it in your preferred environment, and run the queries to get the desired insights from the dataset."
   ]
  }
 ],
 "metadata": {
  "language_info": {
   "name": "python"
  }
 },
 "nbformat": 4,
 "nbformat_minor": 2
}
