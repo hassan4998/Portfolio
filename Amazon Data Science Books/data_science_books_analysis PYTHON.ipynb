{
 "cells": [
  {
   "cell_type": "code",
   "execution_count": 1,
   "metadata": {},
   "outputs": [
    {
     "data": {
      "text/plain": [
       "830"
      ]
     },
     "execution_count": 1,
     "metadata": {},
     "output_type": "execute_result"
    }
   ],
   "source": [
    "import pandas as pd\n",
    "import sqlite3\n",
    "import matplotlib.pyplot as plt\n",
    "\n",
    "# Load the dataset\n",
    "file_path = r\"C:\\Users\\hassa\\Downloads\\SQL\\PROJECT\\final_book_dataset_kaggle2.csv\"\n",
    "books_df = pd.read_csv(file_path)\n",
    "\n",
    "# Create an in-memory SQLite database\n",
    "conn = sqlite3.connect(':memory:')\n",
    "cursor = conn.cursor()\n",
    "\n",
    "# Load the DataFrame into the SQLite database\n",
    "books_df.to_sql('books', conn, index=False, if_exists='replace')\n"
   ]
  },
  {
   "cell_type": "code",
   "execution_count": 3,
   "metadata": {},
   "outputs": [
    {
     "name": "stdout",
     "output_type": "stream",
     "text": [
      "Average Price of Books: 46.49\n"
     ]
    }
   ],
   "source": [
    "# 1. Average price of books\n",
    "query_1 = \"\"\"\n",
    "SELECT ROUND (AVG(CAST(price AS REAL)), 2) AS average_price\n",
    "FROM books\n",
    "\"\"\"\n",
    "average_price = pd.read_sql_query(query_1, conn)\n",
    "print(\"Average Price of Books:\", average_price.iloc[0, 0])"
   ]
  },
  {
   "cell_type": "code",
   "execution_count": 4,
   "metadata": {},
   "outputs": [
    {
     "name": "stdout",
     "output_type": "stream",
     "text": [
      "Highest Rated Authors:\n",
      "                                              author  avg_review_rating\n",
      "0                [ Xudong Ma, Vishakh Hegde, et al.]                5.0\n",
      "1                                  [ Tonny J. Oyana]                5.0\n",
      "2                                    [ Toby Culshaw]                5.0\n",
      "3                                  [ Steven F. Lott]                5.0\n",
      "4  [ Stephen P. Borgatti, Martin G. Everett, et al.]                5.0\n",
      "5        [ Stephen J. Wright,  and , Benjamin Recht]                5.0\n",
      "6                                   [ Soledad Galli]                5.0\n",
      "7                                [ Sinchan Banerjee]                5.0\n",
      "8                         [ Sherwin John C. Tragura]                5.0\n",
      "9                                 [ Santos Ozoemena]                5.0\n"
     ]
    }
   ],
   "source": [
    "# 2. Authors with the highest average review ratings\n",
    "query_2 = \"\"\"\n",
    "SELECT author, AVG(CAST(avg_reviews AS REAL)) AS avg_review_rating\n",
    "FROM books\n",
    "WHERE author IS NOT NULL\n",
    "GROUP BY author\n",
    "ORDER BY avg_review_rating DESC\n",
    "LIMIT 10\n",
    "\"\"\"\n",
    "highest_rated_authors = pd.read_sql_query(query_2, conn)\n",
    "print(\"Highest Rated Authors:\")\n",
    "print(highest_rated_authors)"
   ]
  },
  {
   "cell_type": "code",
   "execution_count": 5,
   "metadata": {},
   "outputs": [
    {
     "name": "stdout",
     "output_type": "stream",
     "text": [
      "Most Common Publishers:\n",
      "                                           publisher  count\n",
      "0                                               None    116\n",
      "1                Packt Publishing (October 31, 2022)      3\n",
      "2                Packt Publishing (January 21, 2022)      3\n",
      "3                  Packt Publishing (April 29, 2022)      3\n",
      "4            Wiley; 1st edition (September 21, 2022)      2\n",
      "5  Packt Publishing - ebooks Account (January 10,...      2\n",
      "6                  Packt Publishing (March 19, 2021)      2\n",
      "7                   Packt Publishing (June 30, 2022)      2\n",
      "8         O'Reilly Media; 1st edition (May 11, 2021)      2\n",
      "9    O'Reilly Media; 1st edition (December 20, 2022)      2\n"
     ]
    }
   ],
   "source": [
    "# 3. Most common publishers for data science books\n",
    "query_3 = \"\"\"\n",
    "SELECT publisher, COUNT(*) AS count\n",
    "FROM books\n",
    "GROUP BY publisher\n",
    "ORDER BY count DESC\n",
    "LIMIT 10\n",
    "\"\"\"\n",
    "common_publishers = pd.read_sql_query(query_3, conn)\n",
    "print(\"Most Common Publishers:\")\n",
    "print(common_publishers)"
   ]
  },
  {
   "cell_type": "code",
   "execution_count": 6,
   "metadata": {},
   "outputs": [
    {
     "name": "stdout",
     "output_type": "stream",
     "text": [
      "Correlation between Number of Pages and Average Review Rating: 0.046571471060341894\n"
     ]
    }
   ],
   "source": [
    "# 4. Correlation between number of pages and average review rating\n",
    "query_4 = \"\"\"\n",
    "SELECT pages, avg_reviews\n",
    "FROM books\n",
    "WHERE pages IS NOT NULL AND avg_reviews IS NOT NULL\n",
    "\"\"\"\n",
    "pages_reviews_df = pd.read_sql_query(query_4, conn)\n",
    "pages_reviews_df['pages'] = pd.to_numeric(pages_reviews_df['pages'], errors='coerce')\n",
    "pages_reviews_df['avg_reviews'] = pd.to_numeric(pages_reviews_df['avg_reviews'], errors='coerce')\n",
    "pages_reviews_df = pages_reviews_df.dropna()\n",
    "correlation = pages_reviews_df.corr().loc['pages', 'avg_reviews']\n",
    "print(\"Correlation between Number of Pages and Average Review Rating:\", correlation)"
   ]
  },
  {
   "cell_type": "code",
   "execution_count": 7,
   "metadata": {},
   "outputs": [
    {
     "name": "stdout",
     "output_type": "stream",
     "text": [
      "Average New Price: 39.4581994459836\n",
      "Average Used Price: 57.27444444444438\n"
     ]
    }
   ],
   "source": [
    "# 5. Compare new and used book prices\n",
    "books_df[['new_price', 'used_price']] = books_df['price (including used books)'].str.split('-', expand=True)\n",
    "books_df['new_price'] = books_df['new_price'].str.replace('[\\$,]', '', regex=True).astype(float)\n",
    "books_df['used_price'] = books_df['used_price'].str.replace('[\\$,]', '', regex=True).astype(float)\n",
    "books_df.to_sql('books', conn, index=False, if_exists='replace')\n",
    "\n",
    "query_5 = \"\"\"\n",
    "SELECT AVG(new_price) AS average_new_price, AVG(used_price) AS average_used_price\n",
    "FROM books\n",
    "\"\"\"\n",
    "new_vs_used_prices = pd.read_sql_query(query_5, conn)\n",
    "print(\"Average New Price:\", new_vs_used_prices.iloc[0, 0])\n",
    "print(\"Average Used Price:\", new_vs_used_prices.iloc[0, 1])"
   ]
  },
  {
   "cell_type": "code",
   "execution_count": 8,
   "metadata": {},
   "outputs": [
    {
     "name": "stdout",
     "output_type": "stream",
     "text": [
      "Top 10 Highest-Rated Books:\n",
      "                                               title  \\\n",
      "0        Topological Data Analysis with Applications   \n",
      "1  Python Programming for Beginners: Python Progr...   \n",
      "2  Microsoft 365 Excel: The Only App That Matters...   \n",
      "3                  Analyzing Social Networks Using R   \n",
      "4  Machine Learning Explained The Simple Way: A B...   \n",
      "5  Talent Intelligence: Use Business and People D...   \n",
      "6  Fundamentals of Music Processing: Using Python...   \n",
      "7  Data-Driven Organization Design: Delivering Pe...   \n",
      "8  Statistical Analysis of fMRI Data, second edit...   \n",
      "9  Time Series for Data Science: Analysis and For...   \n",
      "\n",
      "                                              author  avg_reviews  \n",
      "0  [ Gunnar Carlsson,  and , Mikael Vejdemo-Johan...          5.0  \n",
      "1                                [ Donald P. Wilson]          5.0  \n",
      "2                                     [ Mike Girvin]          5.0  \n",
      "3  [ Stephen P. Borgatti, Martin G. Everett, et al.]          5.0  \n",
      "4                                 [ Santos Ozoemena]          5.0  \n",
      "5                                    [ Toby Culshaw]          5.0  \n",
      "6                                  [ Meinard Müller]          5.0  \n",
      "7                                 [ Rupert Morrison]          5.0  \n",
      "8                                [ F. Gregory Ashby]          5.0  \n",
      "9                                               None          5.0  \n"
     ]
    }
   ],
   "source": [
    "# 6. Top 10 highest-rated books\n",
    "query_6 = \"\"\"\n",
    "SELECT title, author, avg_reviews\n",
    "FROM books\n",
    "ORDER BY CAST(avg_reviews AS REAL) DESC\n",
    "LIMIT 10\n",
    "\"\"\"\n",
    "top_rated_books = pd.read_sql_query(query_6, conn)\n",
    "print(\"Top 10 Highest-Rated Books:\")\n",
    "print(top_rated_books)"
   ]
  },
  {
   "cell_type": "code",
   "execution_count": null,
   "metadata": {},
   "outputs": [],
   "source": [
    "# 7. Distribution of book lengths (in pages)\n",
    "query_7 = \"\"\"\n",
    "SELECT pages\n",
    "FROM books\n",
    "WHERE pages IS NOT NULL\n",
    "\"\"\"\n",
    "book_lengths = pd.read_sql_query(query_7, conn)\n",
    "plt.figure(figsize=(10, 6))\n",
    "plt.hist(book_lengths['pages'], bins=30, edgecolor='k', alpha=0.7)\n",
    "plt.xlabel('Number of Pages')\n",
    "plt.ylabel('Number of Books')\n",
    "plt.title('Distribution of Book Lengths (in Pages)')\n",
    "plt.grid(True)\n",
    "plt.show()"
   ]
  },
  {
   "cell_type": "code",
   "execution_count": 9,
   "metadata": {},
   "outputs": [
    {
     "name": "stdout",
     "output_type": "stream",
     "text": [
      "Books by Language:\n",
      "                                             language  count\n",
      "0                                             English    745\n",
      "1                                                None     71\n",
      "2                                             Spanish      4\n",
      "3      • How to make better business decisions using       1\n",
      "4                     you will discover all you need       1\n",
      "5                                    standard library      1\n",
      "6   Unqualified, Japanese (Dolby Digital 2.0 Mono)...      1\n",
      "7   This Python programming guide assumes certain ...      1\n",
      "8        Scroll to the top of the page and click the       1\n",
      "9                    English (Dolby Digital 2.0 Mono)      1\n",
      "10  English (DTS-HD Master Audio 5.1), French (DTS...      1\n",
      "11  Concepts are presented in a \"to-the-point\" sty...      1\n",
      "12                                       \"Brilliant.\"      1\n"
     ]
    }
   ],
   "source": [
    "# 8. Distribution of books by language\n",
    "query_8 = \"\"\"\n",
    "SELECT language, COUNT(*) AS count\n",
    "FROM books\n",
    "GROUP BY language\n",
    "ORDER BY count DESC\n",
    "\"\"\"\n",
    "language_distribution = pd.read_sql_query(query_8, conn)\n",
    "print(\"Books by Language:\")\n",
    "print(language_distribution)"
   ]
  },
  {
   "cell_type": "code",
   "execution_count": 10,
   "metadata": {},
   "outputs": [
    {
     "name": "stdout",
     "output_type": "stream",
     "text": [
      "Most Reviewed Books:\n",
      "                                               title  \\\n",
      "0  Start with Why: How Great Leaders Inspire Ever...   \n",
      "1  Monty Python and the Holy Grail (Special Edition)   \n",
      "2  Invisible Women: Data Bias in a World Designed...   \n",
      "3  Cracking the Coding Interview: 189 Programming...   \n",
      "4  Python Crash Course, 2nd Edition: A Hands-On, ...   \n",
      "5  Tikaton Reptile Heat Pad - Adjustable Temperat...   \n",
      "6  Principles for Dealing with the Changing World...   \n",
      "7  REPTI ZOO Reptile Terrarium Thermometer Hygrom...   \n",
      "8  Python: - The Bible- 3 Manuscripts in 1 book: ...   \n",
      "9  Monty Python's Life Of Brian - The Immaculate ...   \n",
      "\n",
      "                     author n_reviews  \n",
      "0                      None    26,560  \n",
      "1                      None    10,103  \n",
      "2  [ Caroline Criado Perez]     8,819  \n",
      "3                      None     7,953  \n",
      "4           [ Eric Matthes]     7,767  \n",
      "5                      None     6,045  \n",
      "6              [ Ray Dalio]     5,517  \n",
      "7                      None     4,388  \n",
      "8                      None     4,228  \n",
      "9                      None     3,678  \n"
     ]
    }
   ],
   "source": [
    "# 9. Books with the highest number of reviews\n",
    "query_9 = \"\"\"\n",
    "SELECT title, author, n_reviews\n",
    "FROM books\n",
    "ORDER BY CAST(REPLACE(n_reviews, ',', '') AS INTEGER) DESC\n",
    "LIMIT 10\n",
    "\"\"\"\n",
    "most_reviewed_books = pd.read_sql_query(query_9, conn)\n",
    "print(\"Most Reviewed Books:\")\n",
    "print(most_reviewed_books)\n"
   ]
  },
  {
   "cell_type": "code",
   "execution_count": 11,
   "metadata": {},
   "outputs": [
    {
     "name": "stdout",
     "output_type": "stream",
     "text": [
      "Highest Rated Books' Price Ranges:\n",
      "                                                title  \\\n",
      "0         Topological Data Analysis with Applications   \n",
      "1   Python Programming for Beginners: Python Progr...   \n",
      "2   Microsoft 365 Excel: The Only App That Matters...   \n",
      "3                   Analyzing Social Networks Using R   \n",
      "4   Machine Learning Explained The Simple Way: A B...   \n",
      "..                                                ...   \n",
      "56  R for Political Data Science (Chapman & Hall/C...   \n",
      "57  Targeted Learning in Data Science: Causal Infe...   \n",
      "58                                   Integrating Data   \n",
      "59            Introduction to Biomedical Data Science   \n",
      "60                                  Game Data Science   \n",
      "\n",
      "                                               author  price  \\\n",
      "0   [ Gunnar Carlsson,  and , Mikael Vejdemo-Johan...  54.19   \n",
      "1                                 [ Donald P. Wilson]    NaN   \n",
      "2                                      [ Mike Girvin]  34.95   \n",
      "3   [ Stephen P. Borgatti, Martin G. Everett, et al.]  52.21   \n",
      "4                                  [ Santos Ozoemena]  11.97   \n",
      "..                                                ...    ...   \n",
      "56                                               None  54.09   \n",
      "57                                               None  85.04   \n",
      "58                [ Bill Inmon, Patty Haines, et al.]  39.95   \n",
      "59             [ Robert Hoyt,  and , Robert Muenchen]  64.95   \n",
      "60  [ Magy Seif El-Nasr, Truong-Huy D. Nguyen, et ...  52.79   \n",
      "\n",
      "   price (including used books)  avg_reviews  \n",
      "0                53.98 - 54.19           5.0  \n",
      "1                          None          5.0  \n",
      "2                         34.95          5.0  \n",
      "3                51.45 - 52.21           5.0  \n",
      "4                         11.97          5.0  \n",
      "..                          ...          ...  \n",
      "56               53.85 - 54.09           5.0  \n",
      "57               76.91 - 85.04           5.0  \n",
      "58                        39.95          5.0  \n",
      "59                        64.95          5.0  \n",
      "60               47.30 - 52.79           5.0  \n",
      "\n",
      "[61 rows x 5 columns]\n"
     ]
    }
   ],
   "source": [
    "# 10. Price range for highest-rated books\n",
    "query_10 = \"\"\"\n",
    "SELECT title, author, price, `price (including used books)`, avg_reviews\n",
    "FROM books\n",
    "WHERE avg_reviews = '5.0'\n",
    "\"\"\"\n",
    "highest_rated_books_prices = pd.read_sql_query(query_10, conn)\n",
    "print(\"Highest Rated Books' Price Ranges:\")\n",
    "print(highest_rated_books_prices)"
   ]
  }
 ],
 "metadata": {
  "kernelspec": {
   "display_name": "Python 3",
   "language": "python",
   "name": "python3"
  },
  "language_info": {
   "codemirror_mode": {
    "name": "ipython",
    "version": 3
   },
   "file_extension": ".py",
   "mimetype": "text/x-python",
   "name": "python",
   "nbconvert_exporter": "python",
   "pygments_lexer": "ipython3",
   "version": "3.11.4"
  }
 },
 "nbformat": 4,
 "nbformat_minor": 2
}
